{
 "cells": [
  {
   "cell_type": "code",
   "execution_count": 1,
   "metadata": {},
   "outputs": [
    {
     "name": "stderr",
     "output_type": "stream",
     "text": [
      "You are using a model of type esm_diff to instantiate a model of type dsm. This is not supported for all configurations of models and can yield errors.\n"
     ]
    }
   ],
   "source": [
    "import torch\n",
    "from models.modeling_dsm import DSM # Or DSM_ppi for binder generation\n",
    "\n",
    "# Load a pre-trained model\n",
    "model_name_or_path = \"GleghornLab/DSM_650\" # Replace with your model of choice\n",
    "device = torch.device(\"cuda\" if torch.cuda.is_available() else \"cpu\")\n",
    "model = DSM.from_pretrained(model_name_or_path).to(device).eval()\n",
    "tokenizer = model.tokenizer"
   ]
  },
  {
   "cell_type": "code",
   "execution_count": 2,
   "metadata": {},
   "outputs": [
    {
     "name": "stdout",
     "output_type": "stream",
     "text": [
      "Generated sequence: MTTPIEVFRVGQKRKYLCVSDKYPLALNCLKLPMIRELHRQLGHRNWAGAEAEESPVTNERPFALKCINWPFIMMELRLQSRDDLHIRTSNDKLGPPVPW\n"
     ]
    }
   ],
   "source": [
    "### Unconditional generation\n",
    "length = 100\n",
    "mask_token = tokenizer.mask_token\n",
    "# optionally, enforce starting with methionine\n",
    "input_tokens = tokenizer.encode('M' + ''.join([mask_token] * (length - 1)), add_special_tokens=True, return_tensors='pt').to(device)\n",
    "output = model.mask_diffusion_generate(\n",
    "    tokenizer=tokenizer,\n",
    "    input_tokens=input_tokens,\n",
    "    step_divisor=100,          # lower is slower but better\n",
    "    temperature=1.0,           # sampling temperature\n",
    "    remasking=\"random\",        # strategy for remasking tokens not kept\n",
    "    preview=False,             # set this to True to watch the mask tokens get rilled in real time\n",
    "    slow=False,                # adds a small delay to the real time filling (because it is usually very fast and watching carefully is hard!)\n",
    "    return_trajectory=False    # set this to True to return the trajectory of the generation (what you watch in the preview)\n",
    ") # Note: output will be a tuple if return_trajectory is True\n",
    "\n",
    "generated_sequences = model.decode_output(output)\n",
    "print(f\"Generated sequence: {generated_sequences[0]}\")"
   ]
  },
  {
   "cell_type": "code",
   "execution_count": 3,
   "metadata": {},
   "outputs": [
    {
     "name": "stdout",
     "output_type": "stream",
     "text": [
      "Generated sequence: MAAGGKEGLTSTL\n"
     ]
    }
   ],
   "source": [
    "# Mask Filling / Inpainting\n",
    "template_sequence = \"MA<mask><mask><mask>KEG<mask><mask>STL\"\n",
    "input_tokens = tokenizer.encode(template_sequence, add_special_tokens=True, return_tensors='pt').to(device)\n",
    "\n",
    "output = model.mask_diffusion_generate(\n",
    "    tokenizer=tokenizer,\n",
    "    input_tokens=input_tokens,\n",
    "    step_divisor=100,          # lower is slower but better\n",
    "    temperature=1.0,           # sampling temperature\n",
    "    remasking=\"random\",        # strategy for remasking tokens not kept\n",
    "    preview=False,             # set this to True to watch the mask tokens get rilled in real time\n",
    "    slow=False,                # adds a small delay to the real time filling (because it is usually very fast and watching carefully is hard!)\n",
    "    return_trajectory=False    # set this to True to return the trajectory of the generation (what you watch in the preview)\n",
    ") # Note: output will be a tuple if return_trajectory is True\n",
    "\n",
    "generated_sequences = model.decode_output(output)\n",
    "print(f\"Generated sequence: {generated_sequences[0]}\")"
   ]
  },
  {
   "cell_type": "code",
   "execution_count": 6,
   "metadata": {},
   "outputs": [
    {
     "name": "stdout",
     "output_type": "stream",
     "text": [
      "Generated binder HRHHHRRPTHARETEWLARMRLGIAEHQRIAVPRSDLEPDQMRERAADNQRLVKEYDQVIDHQTEGSTERLFEVLRVWEQVNTEQAHHEASAALEFGRVGYPDDEGGRAFYTQANAHKKDLVEYIGGIDEDAKWDPRIAWLMPEGGQPVKATVIGVSEERINGLKVLDDHWGRERRLWLINLFTALQAYDDPTRPTQVTLTPATDQLTNDVQYLLLSTRYTPPGVTTAVKIRKLDGRTLKVLTTEAPYVVRGATLS\n"
     ]
    }
   ],
   "source": [
    "# from models.modeling_dsm import DSM_ppi\n",
    "# model_binder = DSM_ppi.from_pretrained(\"GleghornLab/DSM_650_ppi_lora\").to(device).eval()\n",
    "# The lora version from the paper leads to unreliable outputs\n",
    "# Synthyra has generously trained a version through full fine tuning\n",
    "from models.modeling_dsm import DSM\n",
    "\n",
    "model_binder = DSM.from_pretrained(\"Synthyra/DSM_ppi_full\").to(device).eval()\n",
    "\n",
    "# BBF-14\n",
    "target_seq = \"MGTPLWALLGGPWRGTATYEDGTKVTLDYRYTRVSPDRLRADVTYTTPDGTTLEATVDLWKDANGVIRYHATYPDGTSADGTLTQLDADTLLATGTYDDGTKYTVTLTRVAPGSGWHHHHHH\"\n",
    "# For binder generation, the 'interactor' (SeqB) part is what gets generated/filled.\n",
    "# Start with a fully masked interactor of desired length.\n",
    "interactor_template_len = 256\n",
    "interactor_template = ''.join([mask_token] * interactor_template_len)\n",
    "\n",
    "combined_input_str = target_seq + '<eos>' + interactor_template\n",
    "\n",
    "input_tokens = tokenizer.encode(combined_input_str, add_special_tokens=True, return_tensors='pt').to(device)\n",
    "\n",
    "output = model_binder.mask_diffusion_generate(\n",
    "    tokenizer=tokenizer,\n",
    "    input_tokens=input_tokens,\n",
    "    step_divisor=10,          # lower is slower but better\n",
    "    temperature=1.0,           # sampling temperature\n",
    "    remasking=\"random\",        # strategy for remasking tokens not kept\n",
    "    preview=False,             # set this to True to watch the mask tokens get rilled in real time\n",
    "    slow=False,                # adds a small delay to the real time filling (because it is usually very fast and watching carefully is hard!)\n",
    "    return_trajectory=False    # set this to True to return the trajectory of the generation (what you watch in the preview)\n",
    ") # Note: output will be a tuple if return_trajectory is True\n",
    "\n",
    "target, binder = model.decode_dual_input(output, seperator='<eos>')\n",
    "# Parse out the generated interactor part based on EOS tokens.\n",
    "# Example: generated_full_seq_str.split(model_binder.tokenizer.eos_token)[1]\n",
    "print(f\"Generated binder {binder[0]}\")"
   ]
  },
  {
   "cell_type": "code",
   "execution_count": 19,
   "metadata": {},
   "outputs": [
    {
     "data": {
      "text/plain": [
       "[0, 1, 2, 3, 3, 1, 1, 3, 4]"
      ]
     },
     "execution_count": 19,
     "metadata": {},
     "output_type": "execute_result"
    }
   ],
   "source": [
    "import ast\n",
    "\n",
    "\n",
    "test = '[0,1, 2, 3, 3, 1, 1, 3, 4]'\n",
    "\n",
    "test_ast = ast.literal_eval(test)\n",
    "isinstance(test_ast, list)\n",
    "test_ast"
   ]
  },
  {
   "cell_type": "code",
   "execution_count": 20,
   "metadata": {},
   "outputs": [
    {
     "data": {
      "application/vnd.jupyter.widget-view+json": {
       "model_id": "bf5313bdabae4636b57c5bbada771796",
       "version_major": 2,
       "version_minor": 0
      },
      "text/plain": [
       "VBox(children=(HTML(value='<center> <img\\nsrc=https://huggingface.co/front/assets/huggingface_logo-noborder.sv…"
      ]
     },
     "metadata": {},
     "output_type": "display_data"
    }
   ],
   "source": [
    "from huggingface_hub import notebook_login\n",
    "notebook_login()"
   ]
  },
  {
   "cell_type": "code",
   "execution_count": null,
   "metadata": {},
   "outputs": [],
   "source": [
    "import argparse\n",
    "\n",
    "\n",
    "parser = argparse.ArgumentParser()\n",
    "parser.add_argument('--token', type=str, default=None)\n",
    "args = parser.parse_args()\n",
    "\n",
    "\n",
    "dataset.push_to_hub('account/name', token=args.token)\n",
    "\n",
    "\n",
    "\n",
    "\n"
   ]
  }
 ],
 "metadata": {
  "kernelspec": {
   "display_name": "Python 3",
   "language": "python",
   "name": "python3"
  },
  "language_info": {
   "codemirror_mode": {
    "name": "ipython",
    "version": 3
   },
   "file_extension": ".py",
   "mimetype": "text/x-python",
   "name": "python",
   "nbconvert_exporter": "python",
   "pygments_lexer": "ipython3",
   "version": "3.11.8"
  }
 },
 "nbformat": 4,
 "nbformat_minor": 2
}

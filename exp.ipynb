{
 "cells": [
  {
   "cell_type": "code",
   "execution_count": 2,
   "metadata": {},
   "outputs": [],
   "source": [
    "from datasets import load_dataset"
   ]
  },
  {
   "cell_type": "code",
   "execution_count": null,
   "metadata": {},
   "outputs": [],
   "source": [
    "data = load_dataset(\"Synthyra/BIOGRID\", split=\"train\")\n",
    "data\n"
   ]
  },
  {
   "cell_type": "code",
   "execution_count": null,
   "metadata": {},
   "outputs": [],
   "source": [
    "seqs = set()\n",
    "\n",
    "data = data.shuffle(seed=42)\n",
    "\n",
    "def process_dataset(ex):\n",
    "    seq_a, seq_b = ex['SeqA'], ex['SeqB']\n",
    "    if seq_a in seqs or seq_b in seqs:\n",
    "        return False\n",
    "    seqs.add(seq_a)\n",
    "    seqs.add(seq_b)\n",
    "    return True\n",
    "\n",
    "data = data.filter(process_dataset)\n",
    "data"
   ]
  },
  {
   "cell_type": "code",
   "execution_count": null,
   "metadata": {},
   "outputs": [],
   "source": [
    "data = load_dataset('Synthyra/all_string_pairs_700', split='train')\n",
    "data"
   ]
  },
  {
   "cell_type": "code",
   "execution_count": null,
   "metadata": {},
   "outputs": [],
   "source": [
    "class UniqueIDFilter:\n",
    "    def __init__(self):\n",
    "        self.ids_seen = set()\n",
    "    \n",
    "    def __call__(self, ex):\n",
    "        if ex['score'] < 900:\n",
    "            return False\n",
    "        id_a, id_b = ex['pairs'].split('|')\n",
    "        if id_a in self.ids_seen or id_b in self.ids_seen:\n",
    "            return False\n",
    "        self.ids_seen.add(id_a)\n",
    "        self.ids_seen.add(id_b)\n",
    "        return True\n",
    "\n",
    "\n",
    "filter_func = UniqueIDFilter()\n",
    "data = data.filter(filter_func, num_proc=16)\n",
    "data"
   ]
  },
  {
   "cell_type": "code",
   "execution_count": null,
   "metadata": {},
   "outputs": [],
   "source": [
    "data = load_dataset('Synthyra/all_string_pairs_900_unique', split='train')\n",
    "ids = set()\n",
    "for pair in data['pairs']:\n",
    "    id_a, id_b = pair.split('|')\n",
    "    ids.add(id_a)\n",
    "    ids.add(id_b)\n",
    "del data\n",
    "len(ids)"
   ]
  },
  {
   "cell_type": "code",
   "execution_count": null,
   "metadata": {},
   "outputs": [],
   "source": [
    "string_seqs = load_dataset('Synthyra/StringDBSeqsv12', split='train')\n",
    "\n",
    "\n",
    "def get_relevant_ids(ex):\n",
    "    id = ex['id']\n",
    "    if id in ids:\n",
    "        return True\n",
    "    return False\n",
    "\n",
    "string_seqs = string_seqs.filter(get_relevant_ids)\n",
    "string_seqs"
   ]
  },
  {
   "cell_type": "code",
   "execution_count": null,
   "metadata": {},
   "outputs": [],
   "source": [
    "string_seqs.push_to_hub('Synthyra/StringDBSeqsv12_unique', private=True)"
   ]
  },
  {
   "cell_type": "code",
   "execution_count": null,
   "metadata": {},
   "outputs": [],
   "source": [
    "seqs = set(load_dataset('Synthyra/StringDBSeqsv12_unique', split='train')['sequence']) # 3% ish in av set\n",
    "len(seqs)"
   ]
  },
  {
   "cell_type": "code",
   "execution_count": null,
   "metadata": {},
   "outputs": [
    {
     "data": {
      "application/vnd.jupyter.widget-view+json": {
       "model_id": "0b929f9e34974109ba39947c3b11e158",
       "version_major": 2,
       "version_minor": 0
      },
      "text/plain": [
       "README.md:   0%|          | 0.00/519 [00:00<?, ?B/s]"
      ]
     },
     "metadata": {},
     "output_type": "display_data"
    },
    {
     "data": {
      "application/vnd.jupyter.widget-view+json": {
       "model_id": "f53de81c86ba4186b6be922ce89d6166",
       "version_major": 2,
       "version_minor": 0
      },
      "text/plain": [
       "Resolving data files:   0%|          | 0/17 [00:00<?, ?it/s]"
      ]
     },
     "metadata": {},
     "output_type": "display_data"
    },
    {
     "data": {
      "application/vnd.jupyter.widget-view+json": {
       "model_id": "0d49992e95b04e86925ac838d2f78ab2",
       "version_major": 2,
       "version_minor": 0
      },
      "text/plain": [
       "Resolving data files:   0%|          | 0/17 [00:00<?, ?it/s]"
      ]
     },
     "metadata": {},
     "output_type": "display_data"
    },
    {
     "data": {
      "application/vnd.jupyter.widget-view+json": {
       "model_id": "9dcc6a41e05f438795c95cae47a34194",
       "version_major": 2,
       "version_minor": 0
      },
      "text/plain": [
       "Downloading data:   0%|          | 0/17 [00:00<?, ?files/s]"
      ]
     },
     "metadata": {},
     "output_type": "display_data"
    },
    {
     "data": {
      "application/vnd.jupyter.widget-view+json": {
       "model_id": "2379fe3162274a2db1d180bf3435109b",
       "version_major": 2,
       "version_minor": 0
      },
      "text/plain": [
       "train-00000-of-00017.parquet:   0%|          | 0.00/413M [00:00<?, ?B/s]"
      ]
     },
     "metadata": {},
     "output_type": "display_data"
    },
    {
     "data": {
      "application/vnd.jupyter.widget-view+json": {
       "model_id": "75830fff232548a5a4bca90f306a9f5d",
       "version_major": 2,
       "version_minor": 0
      },
      "text/plain": [
       "train-00001-of-00017.parquet:   0%|          | 0.00/413M [00:00<?, ?B/s]"
      ]
     },
     "metadata": {},
     "output_type": "display_data"
    },
    {
     "data": {
      "application/vnd.jupyter.widget-view+json": {
       "model_id": "73566933326842a8a5697fc78a39291d",
       "version_major": 2,
       "version_minor": 0
      },
      "text/plain": [
       "train-00002-of-00017.parquet:   0%|          | 0.00/413M [00:00<?, ?B/s]"
      ]
     },
     "metadata": {},
     "output_type": "display_data"
    },
    {
     "data": {
      "application/vnd.jupyter.widget-view+json": {
       "model_id": "55e8fe3fad384acca7c7823f32970189",
       "version_major": 2,
       "version_minor": 0
      },
      "text/plain": [
       "train-00003-of-00017.parquet:   0%|          | 0.00/413M [00:00<?, ?B/s]"
      ]
     },
     "metadata": {},
     "output_type": "display_data"
    },
    {
     "data": {
      "application/vnd.jupyter.widget-view+json": {
       "model_id": "0c4aa07f537d4804bb1beb6149ae906a",
       "version_major": 2,
       "version_minor": 0
      },
      "text/plain": [
       "train-00004-of-00017.parquet:   0%|          | 0.00/413M [00:00<?, ?B/s]"
      ]
     },
     "metadata": {},
     "output_type": "display_data"
    },
    {
     "data": {
      "application/vnd.jupyter.widget-view+json": {
       "model_id": "f593e77da9e24143935015e8e5691126",
       "version_major": 2,
       "version_minor": 0
      },
      "text/plain": [
       "train-00005-of-00017.parquet:   0%|          | 0.00/413M [00:00<?, ?B/s]"
      ]
     },
     "metadata": {},
     "output_type": "display_data"
    },
    {
     "data": {
      "application/vnd.jupyter.widget-view+json": {
       "model_id": "a1ffcf720d044941861f3055f4e4b348",
       "version_major": 2,
       "version_minor": 0
      },
      "text/plain": [
       "train-00006-of-00017.parquet:   0%|          | 0.00/414M [00:00<?, ?B/s]"
      ]
     },
     "metadata": {},
     "output_type": "display_data"
    },
    {
     "data": {
      "application/vnd.jupyter.widget-view+json": {
       "model_id": "fcfa4b1beaa845edb5cdc67db9ad0e2e",
       "version_major": 2,
       "version_minor": 0
      },
      "text/plain": [
       "train-00007-of-00017.parquet:   0%|          | 0.00/413M [00:00<?, ?B/s]"
      ]
     },
     "metadata": {},
     "output_type": "display_data"
    },
    {
     "data": {
      "application/vnd.jupyter.widget-view+json": {
       "model_id": "eea21eafb4c34cc084ea48e2966deea5",
       "version_major": 2,
       "version_minor": 0
      },
      "text/plain": [
       "train-00008-of-00017.parquet:   0%|          | 0.00/414M [00:00<?, ?B/s]"
      ]
     },
     "metadata": {},
     "output_type": "display_data"
    },
    {
     "data": {
      "application/vnd.jupyter.widget-view+json": {
       "model_id": "4ec65a5323e54be2a49a722461971163",
       "version_major": 2,
       "version_minor": 0
      },
      "text/plain": [
       "train-00009-of-00017.parquet:   0%|          | 0.00/412M [00:00<?, ?B/s]"
      ]
     },
     "metadata": {},
     "output_type": "display_data"
    }
   ],
   "source": [
    "seqs = set(load_dataset('lhallee/foldseek_dataset', split='train')['seqs']) # 3% ish in av set\n",
    "len(seqs)"
   ]
  },
  {
   "cell_type": "code",
   "execution_count": null,
   "metadata": {},
   "outputs": [],
   "source": [
    "from tqdm.auto import tqdm\n",
    "\n",
    "\n",
    "av = load_dataset('lhallee/AV_large', split='train', streaming=True)\n",
    "\n",
    "counter, total = 0, 0\n",
    "\n",
    "pbar = tqdm(av)\n",
    "for ex in pbar:\n",
    "    if ex['sequence'] in seqs:\n",
    "        counter += 1\n",
    "    total += 1\n",
    "    pbar.set_description(f'{counter}/{total}')\n",
    "\n",
    "counter\n"
   ]
  }
 ],
 "metadata": {
  "kernelspec": {
   "display_name": "Python 3",
   "language": "python",
   "name": "python3"
  },
  "language_info": {
   "codemirror_mode": {
    "name": "ipython",
    "version": 3
   },
   "file_extension": ".py",
   "mimetype": "text/x-python",
   "name": "python",
   "nbconvert_exporter": "python",
   "pygments_lexer": "ipython3",
   "version": "3.11.8"
  }
 },
 "nbformat": 4,
 "nbformat_minor": 2
}

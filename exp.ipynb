{
 "cells": [
  {
   "cell_type": "code",
   "execution_count": 1,
   "metadata": {},
   "outputs": [],
   "source": [
    "from models.modeling_dsm import DSM\n",
    "from torchinfo import summary"
   ]
  },
  {
   "cell_type": "code",
   "execution_count": 2,
   "metadata": {},
   "outputs": [
    {
     "data": {
      "application/vnd.jupyter.widget-view+json": {
       "model_id": "cd7a5124b97d46c5812bde6bb9c14c01",
       "version_major": 2,
       "version_minor": 0
      },
      "text/plain": [
       "config.json:   0%|          | 0.00/1.27k [00:00<?, ?B/s]"
      ]
     },
     "metadata": {},
     "output_type": "display_data"
    },
    {
     "name": "stderr",
     "output_type": "stream",
     "text": [
      "You are using a model of type esm_diff to instantiate a model of type dsm. This is not supported for all configurations of models and can yield errors.\n"
     ]
    },
    {
     "data": {
      "application/vnd.jupyter.widget-view+json": {
       "model_id": "4ba352f97a764d91a108ce9bd519fbf5",
       "version_major": 2,
       "version_minor": 0
      },
      "text/plain": [
       "model.safetensors:   0%|          | 0.00/2.61G [00:00<?, ?B/s]"
      ]
     },
     "metadata": {},
     "output_type": "display_data"
    },
    {
     "data": {
      "text/plain": [
       "DSM(\n",
       "  (esm): FAST_ESM_ENCODER(\n",
       "    (embeddings): EsmEmbeddings(\n",
       "      (word_embeddings): Embedding(33, 1280, padding_idx=1)\n",
       "    )\n",
       "    (encoder): EsmEncoder(\n",
       "      (layer): ModuleList(\n",
       "        (0-32): 33 x EsmLayer(\n",
       "          (attention): EsmAttention(\n",
       "            (self): EsmSelfAttention(\n",
       "              (query): Linear(in_features=1280, out_features=1280, bias=True)\n",
       "              (key): Linear(in_features=1280, out_features=1280, bias=True)\n",
       "              (value): Linear(in_features=1280, out_features=1280, bias=True)\n",
       "              (rotary_embeddings): RotaryEmbedding()\n",
       "            )\n",
       "            (output): EsmSelfOutput(\n",
       "              (dense): Linear(in_features=1280, out_features=1280, bias=True)\n",
       "              (dropout): Dropout(p=0.0, inplace=False)\n",
       "            )\n",
       "            (LayerNorm): LayerNorm((1280,), eps=1e-05, elementwise_affine=True)\n",
       "          )\n",
       "          (intermediate): EsmIntermediate(\n",
       "            (dense): Linear(in_features=1280, out_features=5120, bias=True)\n",
       "          )\n",
       "          (output): EsmOutput(\n",
       "            (dense): Linear(in_features=5120, out_features=1280, bias=True)\n",
       "            (dropout): Dropout(p=0.0, inplace=False)\n",
       "          )\n",
       "          (LayerNorm): LayerNorm((1280,), eps=1e-05, elementwise_affine=True)\n",
       "        )\n",
       "      )\n",
       "      (emb_layer_norm_after): LayerNorm((1280,), eps=1e-05, elementwise_affine=True)\n",
       "    )\n",
       "    (contact_head): EsmContactPredictionHead(\n",
       "      (regression): Linear(in_features=660, out_features=1, bias=True)\n",
       "      (activation): Sigmoid()\n",
       "    )\n",
       "  )\n",
       "  (pooler): EsmPooler(\n",
       "    (dense): Linear(in_features=1280, out_features=1280, bias=True)\n",
       "    (activation): Tanh()\n",
       "  )\n",
       "  (lm_head): LMHead(\n",
       "    (dense): Linear(in_features=1280, out_features=1280, bias=True)\n",
       "    (layer_norm): LayerNorm((1280,), eps=1e-05, elementwise_affine=True)\n",
       "    (decoder): Linear(in_features=1280, out_features=33, bias=True)\n",
       "    (act): GELU(approximate='none')\n",
       "  )\n",
       "  (ce_loss): CrossEntropyLoss()\n",
       ")"
      ]
     },
     "execution_count": 2,
     "metadata": {},
     "output_type": "execute_result"
    }
   ],
   "source": [
    "model = DSM.from_pretrained(\"GleghornLab/DSM_650\")\n",
    "model"
   ]
  },
  {
   "cell_type": "code",
   "execution_count": 3,
   "metadata": {},
   "outputs": [
    {
     "data": {
      "text/plain": [
       "=====================================================================================\n",
       "Layer (type:depth-idx)                                       Param #\n",
       "=====================================================================================\n",
       "DSM                                                          --\n",
       "├─FAST_ESM_ENCODER: 1-1                                      --\n",
       "│    └─EsmEmbeddings: 2-1                                    --\n",
       "│    │    └─Embedding: 3-1                                   42,240\n",
       "│    └─EsmEncoder: 2-2                                       --\n",
       "│    │    └─ModuleList: 3-2                                  649,355,520\n",
       "│    │    └─LayerNorm: 3-3                                   2,560\n",
       "│    └─EsmContactPredictionHead: 2-3                         --\n",
       "│    │    └─Linear: 3-4                                      661\n",
       "│    │    └─Sigmoid: 3-5                                     --\n",
       "├─EsmPooler: 1-2                                             --\n",
       "│    └─Linear: 2-4                                           1,639,680\n",
       "│    └─Tanh: 2-5                                             --\n",
       "├─LMHead: 1-3                                                --\n",
       "│    └─Linear: 2-6                                           1,639,680\n",
       "│    └─LayerNorm: 2-7                                        2,560\n",
       "│    └─Linear: 2-8                                           42,273\n",
       "│    └─GELU: 2-9                                             --\n",
       "├─CrossEntropyLoss: 1-4                                      --\n",
       "=====================================================================================\n",
       "Total params: 652,725,174\n",
       "Trainable params: 652,725,174\n",
       "Non-trainable params: 0\n",
       "====================================================================================="
      ]
     },
     "execution_count": 3,
     "metadata": {},
     "output_type": "execute_result"
    }
   ],
   "source": [
    "summary(model)"
   ]
  },
  {
   "cell_type": "code",
   "execution_count": 1,
   "metadata": {},
   "outputs": [
    {
     "data": {
      "application/vnd.jupyter.widget-view+json": {
       "model_id": "11a1f12151794d9cb35b70b67af09408",
       "version_major": 2,
       "version_minor": 0
      },
      "text/plain": []
     },
     "metadata": {},
     "output_type": "display_data"
    },
    {
     "data": {
      "application/vnd.jupyter.widget-view+json": {
       "model_id": "9a1fa1ff842f4de6b7a325a93b50b319",
       "version_major": 2,
       "version_minor": 0
      },
      "text/plain": [
       "NGLWidget()"
      ]
     },
     "metadata": {},
     "output_type": "display_data"
    }
   ],
   "source": [
    "# Visualize a protein structure CIF file and highlight annotated domains/regions\n",
    "\n",
    "import nglview as nv\n",
    "\n",
    "# Path to your CIF file\n",
    "cif_file = \"model.cif\"  # <-- change this to your file path\n",
    "\n",
    "# Load the structure\n",
    "view = nv.show_file(cif_file)\n",
    "\n",
    "# Define regions and their colors\n",
    "# Format: (start_residue, end_residue, color, label)\n",
    "regions = [\n",
    "    (2, 223, \"yellow\", \"Region: 2-223 (SART31 interaction)\"),\n",
    "    (7, 118, \"orange\", \"Domain: 7-118 (DUSP PROSITE)\"),\n",
    "    (216, 237, \"magenta\", \"Region: 216-237 (Disordered)\"),\n",
    "    (226, 237, \"cyan\", \"Compositional bias: 226-237 (Polar)\"),\n",
    "    (289, 933, \"green\", \"Domain: 289-933 (USP PROSITE)\"),\n",
    "    (629, 694, \"magenta\", \"Region: 629-694 (Disordered)\"),\n",
    "    (656, 673, \"red\", \"Compositional bias: 656-673 (Acidic)\"),\n",
    "    (952, 981, \"magenta\", \"Region: 952-981 (Disordered)\"),\n",
    "    (960, 974, \"red\", \"Compositional bias: 960-974 (Acidic)\"),\n",
    "]\n",
    "\n",
    "# Add cartoon representation for the whole structure\n",
    "view.clear_representations()\n",
    "view.add_cartoon(color=\"lightgrey\", opacity=0.3)\n",
    "\n",
    "# Highlight each region\n",
    "for start, end, color, label in regions:\n",
    "    # NGL residue numbers are usually 1-based and inclusive\n",
    "    selection = f\"{start}-{end}\"\n",
    "    view.add_cartoon(selection=selection, color=color)\n",
    "    # Optionally, add a label at the center residue\n",
    "    center = (start + end) // 2\n",
    "    view.add_label(selection=f\"{center}\", color=color, labelType=\"residue\", labelText=label)\n",
    "\n",
    "# Show the viewer\n",
    "view\n"
   ]
  },
  {
   "cell_type": "code",
   "execution_count": 2,
   "metadata": {},
   "outputs": [],
   "source": [
    "from datasets import load_dataset"
   ]
  },
  {
   "cell_type": "code",
   "execution_count": null,
   "metadata": {},
   "outputs": [],
   "source": [
    "data = load_dataset(\"Synthyra/BIOGRID\", split=\"train\")\n",
    "data\n"
   ]
  },
  {
   "cell_type": "code",
   "execution_count": null,
   "metadata": {},
   "outputs": [],
   "source": [
    "seqs = set()\n",
    "\n",
    "data = data.shuffle(seed=42)\n",
    "\n",
    "def process_dataset(ex):\n",
    "    seq_a, seq_b = ex['SeqA'], ex['SeqB']\n",
    "    if seq_a in seqs or seq_b in seqs:\n",
    "        return False\n",
    "    seqs.add(seq_a)\n",
    "    seqs.add(seq_b)\n",
    "    return True\n",
    "\n",
    "data = data.filter(process_dataset)\n",
    "data"
   ]
  },
  {
   "cell_type": "code",
   "execution_count": null,
   "metadata": {},
   "outputs": [],
   "source": [
    "data = load_dataset('Synthyra/all_string_pairs_700', split='train')\n",
    "data"
   ]
  },
  {
   "cell_type": "code",
   "execution_count": null,
   "metadata": {},
   "outputs": [],
   "source": [
    "class UniqueIDFilter:\n",
    "    def __init__(self):\n",
    "        self.ids_seen = set()\n",
    "    \n",
    "    def __call__(self, ex):\n",
    "        if ex['score'] < 900:\n",
    "            return False\n",
    "        id_a, id_b = ex['pairs'].split('|')\n",
    "        if id_a in self.ids_seen or id_b in self.ids_seen:\n",
    "            return False\n",
    "        self.ids_seen.add(id_a)\n",
    "        self.ids_seen.add(id_b)\n",
    "        return True\n",
    "\n",
    "\n",
    "filter_func = UniqueIDFilter()\n",
    "data = data.filter(filter_func, num_proc=16)\n",
    "data"
   ]
  },
  {
   "cell_type": "code",
   "execution_count": null,
   "metadata": {},
   "outputs": [],
   "source": [
    "data = load_dataset('Synthyra/all_string_pairs_900_unique', split='train')\n",
    "ids = set()\n",
    "for pair in data['pairs']:\n",
    "    id_a, id_b = pair.split('|')\n",
    "    ids.add(id_a)\n",
    "    ids.add(id_b)\n",
    "del data\n",
    "len(ids)"
   ]
  },
  {
   "cell_type": "code",
   "execution_count": null,
   "metadata": {},
   "outputs": [],
   "source": [
    "string_seqs = load_dataset('Synthyra/StringDBSeqsv12', split='train')\n",
    "\n",
    "\n",
    "def get_relevant_ids(ex):\n",
    "    id = ex['id']\n",
    "    if id in ids:\n",
    "        return True\n",
    "    return False\n",
    "\n",
    "string_seqs = string_seqs.filter(get_relevant_ids)\n",
    "string_seqs"
   ]
  },
  {
   "cell_type": "code",
   "execution_count": null,
   "metadata": {},
   "outputs": [],
   "source": [
    "string_seqs.push_to_hub('Synthyra/StringDBSeqsv12_unique', private=True) # 20% ish in av set"
   ]
  },
  {
   "cell_type": "code",
   "execution_count": null,
   "metadata": {},
   "outputs": [],
   "source": [
    "seqs = set(load_dataset('Synthyra/StringDBSeqsv12_unique', split='train')['sequence']) # 3% ish in av set\n",
    "len(seqs)"
   ]
  },
  {
   "cell_type": "code",
   "execution_count": 3,
   "metadata": {},
   "outputs": [
    {
     "data": {
      "application/vnd.jupyter.widget-view+json": {
       "model_id": "0b929f9e34974109ba39947c3b11e158",
       "version_major": 2,
       "version_minor": 0
      },
      "text/plain": [
       "README.md:   0%|          | 0.00/519 [00:00<?, ?B/s]"
      ]
     },
     "metadata": {},
     "output_type": "display_data"
    },
    {
     "data": {
      "application/vnd.jupyter.widget-view+json": {
       "model_id": "f53de81c86ba4186b6be922ce89d6166",
       "version_major": 2,
       "version_minor": 0
      },
      "text/plain": [
       "Resolving data files:   0%|          | 0/17 [00:00<?, ?it/s]"
      ]
     },
     "metadata": {},
     "output_type": "display_data"
    },
    {
     "data": {
      "application/vnd.jupyter.widget-view+json": {
       "model_id": "0d49992e95b04e86925ac838d2f78ab2",
       "version_major": 2,
       "version_minor": 0
      },
      "text/plain": [
       "Resolving data files:   0%|          | 0/17 [00:00<?, ?it/s]"
      ]
     },
     "metadata": {},
     "output_type": "display_data"
    },
    {
     "data": {
      "application/vnd.jupyter.widget-view+json": {
       "model_id": "9dcc6a41e05f438795c95cae47a34194",
       "version_major": 2,
       "version_minor": 0
      },
      "text/plain": [
       "Downloading data:   0%|          | 0/17 [00:00<?, ?files/s]"
      ]
     },
     "metadata": {},
     "output_type": "display_data"
    },
    {
     "data": {
      "application/vnd.jupyter.widget-view+json": {
       "model_id": "2379fe3162274a2db1d180bf3435109b",
       "version_major": 2,
       "version_minor": 0
      },
      "text/plain": [
       "train-00000-of-00017.parquet:   0%|          | 0.00/413M [00:00<?, ?B/s]"
      ]
     },
     "metadata": {},
     "output_type": "display_data"
    },
    {
     "data": {
      "application/vnd.jupyter.widget-view+json": {
       "model_id": "75830fff232548a5a4bca90f306a9f5d",
       "version_major": 2,
       "version_minor": 0
      },
      "text/plain": [
       "train-00001-of-00017.parquet:   0%|          | 0.00/413M [00:00<?, ?B/s]"
      ]
     },
     "metadata": {},
     "output_type": "display_data"
    },
    {
     "data": {
      "application/vnd.jupyter.widget-view+json": {
       "model_id": "73566933326842a8a5697fc78a39291d",
       "version_major": 2,
       "version_minor": 0
      },
      "text/plain": [
       "train-00002-of-00017.parquet:   0%|          | 0.00/413M [00:00<?, ?B/s]"
      ]
     },
     "metadata": {},
     "output_type": "display_data"
    },
    {
     "data": {
      "application/vnd.jupyter.widget-view+json": {
       "model_id": "55e8fe3fad384acca7c7823f32970189",
       "version_major": 2,
       "version_minor": 0
      },
      "text/plain": [
       "train-00003-of-00017.parquet:   0%|          | 0.00/413M [00:00<?, ?B/s]"
      ]
     },
     "metadata": {},
     "output_type": "display_data"
    },
    {
     "data": {
      "application/vnd.jupyter.widget-view+json": {
       "model_id": "0c4aa07f537d4804bb1beb6149ae906a",
       "version_major": 2,
       "version_minor": 0
      },
      "text/plain": [
       "train-00004-of-00017.parquet:   0%|          | 0.00/413M [00:00<?, ?B/s]"
      ]
     },
     "metadata": {},
     "output_type": "display_data"
    },
    {
     "data": {
      "application/vnd.jupyter.widget-view+json": {
       "model_id": "f593e77da9e24143935015e8e5691126",
       "version_major": 2,
       "version_minor": 0
      },
      "text/plain": [
       "train-00005-of-00017.parquet:   0%|          | 0.00/413M [00:00<?, ?B/s]"
      ]
     },
     "metadata": {},
     "output_type": "display_data"
    },
    {
     "data": {
      "application/vnd.jupyter.widget-view+json": {
       "model_id": "a1ffcf720d044941861f3055f4e4b348",
       "version_major": 2,
       "version_minor": 0
      },
      "text/plain": [
       "train-00006-of-00017.parquet:   0%|          | 0.00/414M [00:00<?, ?B/s]"
      ]
     },
     "metadata": {},
     "output_type": "display_data"
    },
    {
     "data": {
      "application/vnd.jupyter.widget-view+json": {
       "model_id": "fcfa4b1beaa845edb5cdc67db9ad0e2e",
       "version_major": 2,
       "version_minor": 0
      },
      "text/plain": [
       "train-00007-of-00017.parquet:   0%|          | 0.00/413M [00:00<?, ?B/s]"
      ]
     },
     "metadata": {},
     "output_type": "display_data"
    },
    {
     "data": {
      "application/vnd.jupyter.widget-view+json": {
       "model_id": "eea21eafb4c34cc084ea48e2966deea5",
       "version_major": 2,
       "version_minor": 0
      },
      "text/plain": [
       "train-00008-of-00017.parquet:   0%|          | 0.00/414M [00:00<?, ?B/s]"
      ]
     },
     "metadata": {},
     "output_type": "display_data"
    },
    {
     "data": {
      "application/vnd.jupyter.widget-view+json": {
       "model_id": "4ec65a5323e54be2a49a722461971163",
       "version_major": 2,
       "version_minor": 0
      },
      "text/plain": [
       "train-00009-of-00017.parquet:   0%|          | 0.00/412M [00:00<?, ?B/s]"
      ]
     },
     "metadata": {},
     "output_type": "display_data"
    },
    {
     "data": {
      "application/vnd.jupyter.widget-view+json": {
       "model_id": "b6b325a07f73467e96779eb55bb75104",
       "version_major": 2,
       "version_minor": 0
      },
      "text/plain": [
       "train-00010-of-00017.parquet:   0%|          | 0.00/413M [00:00<?, ?B/s]"
      ]
     },
     "metadata": {},
     "output_type": "display_data"
    },
    {
     "data": {
      "application/vnd.jupyter.widget-view+json": {
       "model_id": "803a81ac00db487e8a987c1a3040c622",
       "version_major": 2,
       "version_minor": 0
      },
      "text/plain": [
       "train-00011-of-00017.parquet:   0%|          | 0.00/413M [00:00<?, ?B/s]"
      ]
     },
     "metadata": {},
     "output_type": "display_data"
    },
    {
     "data": {
      "application/vnd.jupyter.widget-view+json": {
       "model_id": "9aa9915b9b6b4eff989a26764f73c9bf",
       "version_major": 2,
       "version_minor": 0
      },
      "text/plain": [
       "train-00012-of-00017.parquet:   0%|          | 0.00/413M [00:00<?, ?B/s]"
      ]
     },
     "metadata": {},
     "output_type": "display_data"
    },
    {
     "data": {
      "application/vnd.jupyter.widget-view+json": {
       "model_id": "b57e004cf49d4787a804970dc2c95724",
       "version_major": 2,
       "version_minor": 0
      },
      "text/plain": [
       "train-00013-of-00017.parquet:   0%|          | 0.00/413M [00:00<?, ?B/s]"
      ]
     },
     "metadata": {},
     "output_type": "display_data"
    },
    {
     "data": {
      "application/vnd.jupyter.widget-view+json": {
       "model_id": "56d0c5b992154c51bff1a9271dd98bcb",
       "version_major": 2,
       "version_minor": 0
      },
      "text/plain": [
       "train-00014-of-00017.parquet:   0%|          | 0.00/413M [00:00<?, ?B/s]"
      ]
     },
     "metadata": {},
     "output_type": "display_data"
    },
    {
     "data": {
      "application/vnd.jupyter.widget-view+json": {
       "model_id": "2898d149461a49ccab0960611fe6f5a5",
       "version_major": 2,
       "version_minor": 0
      },
      "text/plain": [
       "train-00015-of-00017.parquet:   0%|          | 0.00/413M [00:00<?, ?B/s]"
      ]
     },
     "metadata": {},
     "output_type": "display_data"
    },
    {
     "data": {
      "application/vnd.jupyter.widget-view+json": {
       "model_id": "832793ccf3894333ac908be2d0f7c8fb",
       "version_major": 2,
       "version_minor": 0
      },
      "text/plain": [
       "train-00016-of-00017.parquet:   0%|          | 0.00/413M [00:00<?, ?B/s]"
      ]
     },
     "metadata": {},
     "output_type": "display_data"
    },
    {
     "data": {
      "application/vnd.jupyter.widget-view+json": {
       "model_id": "e911a941963b432584077b966cc0ad44",
       "version_major": 2,
       "version_minor": 0
      },
      "text/plain": [
       "test-00000-of-00001.parquet:   0%|          | 0.00/115k [00:00<?, ?B/s]"
      ]
     },
     "metadata": {},
     "output_type": "display_data"
    },
    {
     "data": {
      "application/vnd.jupyter.widget-view+json": {
       "model_id": "d2cf37e94026455ea0241a7cfba2a331",
       "version_major": 2,
       "version_minor": 0
      },
      "text/plain": [
       "valid-00000-of-00001.parquet:   0%|          | 0.00/118k [00:00<?, ?B/s]"
      ]
     },
     "metadata": {},
     "output_type": "display_data"
    },
    {
     "data": {
      "application/vnd.jupyter.widget-view+json": {
       "model_id": "c72493c8831945f39a3d7cfc710b0fd2",
       "version_major": 2,
       "version_minor": 0
      },
      "text/plain": [
       "Generating train split:   0%|          | 0/17070828 [00:00<?, ? examples/s]"
      ]
     },
     "metadata": {},
     "output_type": "display_data"
    },
    {
     "data": {
      "application/vnd.jupyter.widget-view+json": {
       "model_id": "b7562ae5b0da4cf88d179158f48fc901",
       "version_major": 2,
       "version_minor": 0
      },
      "text/plain": [
       "Generating test split:   0%|          | 0/474 [00:00<?, ? examples/s]"
      ]
     },
     "metadata": {},
     "output_type": "display_data"
    },
    {
     "data": {
      "application/vnd.jupyter.widget-view+json": {
       "model_id": "3b8080ce7b2d4b98b5d88166729312b2",
       "version_major": 2,
       "version_minor": 0
      },
      "text/plain": [
       "Generating valid split:   0%|          | 0/474 [00:00<?, ? examples/s]"
      ]
     },
     "metadata": {},
     "output_type": "display_data"
    },
    {
     "data": {
      "application/vnd.jupyter.widget-view+json": {
       "model_id": "b9e18b5b11244c8dafdecef8a16d53a5",
       "version_major": 2,
       "version_minor": 0
      },
      "text/plain": [
       "Loading dataset shards:   0%|          | 0/17 [00:00<?, ?it/s]"
      ]
     },
     "metadata": {},
     "output_type": "display_data"
    },
    {
     "data": {
      "text/plain": [
       "17069128"
      ]
     },
     "execution_count": 3,
     "metadata": {},
     "output_type": "execute_result"
    }
   ],
   "source": [
    "seqs = set(load_dataset('lhallee/foldseek_dataset', split='train')['seqs']) # 3% ish in av set\n",
    "len(seqs)"
   ]
  },
  {
   "cell_type": "code",
   "execution_count": null,
   "metadata": {},
   "outputs": [
    {
     "data": {
      "application/vnd.jupyter.widget-view+json": {
       "model_id": "f41a4b8c461c430ab5ccd4e154670730",
       "version_major": 2,
       "version_minor": 0
      },
      "text/plain": [
       "Resolving data files:   0%|          | 0/42 [00:00<?, ?it/s]"
      ]
     },
     "metadata": {},
     "output_type": "display_data"
    },
    {
     "data": {
      "application/vnd.jupyter.widget-view+json": {
       "model_id": "e6d0076c38d240659bd70941de75bfd3",
       "version_major": 2,
       "version_minor": 0
      },
      "text/plain": [
       "Resolving data files:   0%|          | 0/42 [00:00<?, ?it/s]"
      ]
     },
     "metadata": {},
     "output_type": "display_data"
    },
    {
     "data": {
      "application/vnd.jupyter.widget-view+json": {
       "model_id": "4f260a7a5b564868a1a36181b020753d",
       "version_major": 2,
       "version_minor": 0
      },
      "text/plain": [
       "0it [00:00, ?it/s]"
      ]
     },
     "metadata": {},
     "output_type": "display_data"
    }
   ],
   "source": [
    "from tqdm.auto import tqdm\n",
    "\n",
    "\n",
    "av = load_dataset('lhallee/AV_large', split='train', streaming=True)\n",
    "\n",
    "counter, total = 0, 0\n",
    "\n",
    "pbar = tqdm(av)\n",
    "for ex in pbar:\n",
    "    if ex['sequence'] in seqs:\n",
    "        counter += 1\n",
    "    total += 1\n",
    "    pbar.set_description(f'{counter}/{total}')\n",
    "\n",
    "counter\n"
   ]
  }
 ],
 "metadata": {
  "kernelspec": {
   "display_name": "Python 3",
   "language": "python",
   "name": "python3"
  },
  "language_info": {
   "codemirror_mode": {
    "name": "ipython",
    "version": 3
   },
   "file_extension": ".py",
   "mimetype": "text/x-python",
   "name": "python",
   "nbconvert_exporter": "python",
   "pygments_lexer": "ipython3",
   "version": "3.11.8"
  }
 },
 "nbformat": 4,
 "nbformat_minor": 2
}

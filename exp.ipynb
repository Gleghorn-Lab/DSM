{
 "cells": [
  {
   "cell_type": "code",
   "execution_count": 2,
   "metadata": {},
   "outputs": [
    {
     "name": "stderr",
     "output_type": "stream",
     "text": [
      "You are using a model of type esm_diff to instantiate a model of type dsm. This is not supported for all configurations of models and can yield errors.\n"
     ]
    }
   ],
   "source": [
    "import torch\n",
    "from models.modeling_dsm import DSM # Or DSM_ppi for binder generation\n",
    "\n",
    "# Load a pre-trained model\n",
    "model_name_or_path = \"GleghornLab/DSM_650\" # Replace with your model of choice\n",
    "device = torch.device(\"cuda\" if torch.cuda.is_available() else \"cpu\")\n",
    "model = DSM.from_pretrained(model_name_or_path).to(device).eval()\n",
    "tokenizer = model.tokenizer"
   ]
  },
  {
   "cell_type": "code",
   "execution_count": 2,
   "metadata": {},
   "outputs": [
    {
     "name": "stdout",
     "output_type": "stream",
     "text": [
      "Generated sequence: MDWQPAINQPHKWVQXKEAIGSTTPGDEDAFEELTETRRRQAEDGLVNLSDPQIIASLLAPGQEKETKWQVQLQTKYRNYFNGHRKGKLPIYQAESVLVN\n"
     ]
    }
   ],
   "source": [
    "### Unconditional generation\n",
    "length = 100\n",
    "mask_token = tokenizer.mask_token\n",
    "# optionally, enforce starting with methionine\n",
    "input_tokens = tokenizer.encode('M' + ''.join([mask_token] * (length - 1)), add_special_tokens=True, return_tensors='pt').to(device)\n",
    "output = model.mask_diffusion_generate(\n",
    "    tokenizer=tokenizer,\n",
    "    input_tokens=input_tokens,\n",
    "    step_divisor=100,          # lower is slower but better\n",
    "    temperature=1.0,           # sampling temperature\n",
    "    remasking=\"random\",        # strategy for remasking tokens not kept\n",
    "    preview=False,             # set this to True to watch the mask tokens get rilled in real time\n",
    "    slow=False,                # adds a small delay to the real time filling (because it is usually very fast and watching carefully is hard!)\n",
    "    return_trajectory=False    # set this to True to return the trajectory of the generation (what you watch in the preview)\n",
    ") # Note: output will be a tuple if return_trajectory is True\n",
    "\n",
    "generated_sequences = model.decode_output(output)\n",
    "print(f\"Generated sequence: {generated_sequences[0]}\")"
   ]
  },
  {
   "cell_type": "code",
   "execution_count": 3,
   "metadata": {},
   "outputs": [
    {
     "name": "stdout",
     "output_type": "stream",
     "text": [
      "Generated sequence: MAEAEKEGLISTL\n"
     ]
    }
   ],
   "source": [
    "# Mask Filling / Inpainting\n",
    "template_sequence = \"MA<mask><mask><mask>KEG<mask><mask>STL\"\n",
    "input_tokens = tokenizer.encode(template_sequence, add_special_tokens=True, return_tensors='pt').to(device)\n",
    "\n",
    "output = model.mask_diffusion_generate(\n",
    "    tokenizer=tokenizer,\n",
    "    input_tokens=input_tokens,\n",
    "    step_divisor=100,          # lower is slower but better\n",
    "    temperature=1.0,           # sampling temperature\n",
    "    remasking=\"random\",        # strategy for remasking tokens not kept\n",
    "    preview=False,             # set this to True to watch the mask tokens get rilled in real time\n",
    "    slow=False,                # adds a small delay to the real time filling (because it is usually very fast and watching carefully is hard!)\n",
    "    return_trajectory=False    # set this to True to return the trajectory of the generation (what you watch in the preview)\n",
    ") # Note: output will be a tuple if return_trajectory is True\n",
    "\n",
    "generated_sequences = model.decode_output(output)\n",
    "print(f\"Generated sequence: {generated_sequences[0]}\")"
   ]
  },
  {
   "cell_type": "code",
   "execution_count": 6,
   "metadata": {},
   "outputs": [],
   "source": [
    "model.cpu()\n",
    "del model\n",
    "torch.cuda.empty_cache()"
   ]
  },
  {
   "cell_type": "code",
   "execution_count": null,
   "metadata": {},
   "outputs": [],
   "source": [
    "# from models.modeling_dsm import DSM_ppi\n",
    "# model_binder = DSM_ppi.from_pretrained(\"GleghornLab/DSM_650_ppi_lora\").to(device).eval()\n",
    "# The lora version from the paper leads to unreliable outputs\n",
    "# Synthyra has generously trained a version through full fine tuning\n",
    "\n",
    "model = DSM.from_pretrained(\"Synthyra/DSM_ppi_full\").to(device).eval()\n",
    "\n",
    "# BBF-14\n",
    "target_seq = \"MGTPLWALLGGPWRGTATYEDGTKVTLDYRYTRVSPDRLRADVTYTTPDGTTLEATVDLWKDANGVIRYHATYPDGTSADGTLTQLDADTLLATGTYDDGTKYTVTLTRVAPGSGWHHHHHH\"\n",
    "# For binder generation, the 'interactor' (SeqB) part is what gets generated/filled.\n",
    "# Start with a fully masked interactor of desired length.\n",
    "interactor_template_len = 256\n",
    "interactor_template = ''.join([mask_token] * interactor_template_len)\n",
    "\n",
    "combined_input_str = target_seq + '<eos>' + interactor_template\n",
    "\n",
    "input_tokens = tokenizer.encode(combined_input_str, add_special_tokens=True, return_tensors='pt').to(device)\n",
    "\n",
    "output = model.mask_diffusion_generate(\n",
    "    tokenizer=tokenizer,\n",
    "    input_tokens=input_tokens,\n",
    "    step_divisor=100,          # lower is slower but better\n",
    "    temperature=1.0,           # sampling temperature\n",
    "    remasking=\"random\",        # strategy for remasking tokens not kept\n",
    "    preview=False,             # set this to True to watch the mask tokens get rilled in real time\n",
    "    slow=False,                # adds a small delay to the real time filling (because it is usually very fast and watching carefully is hard!)\n",
    "    return_trajectory=False    # set this to True to return the trajectory of the generation (what you watch in the preview)\n",
    ") # Note: output will be a tuple if return_trajectory is True\n",
    "\n",
    "target, binder = model.decode_dual_input(output, seperator='<eos>')\n",
    "# Parse out the generated interactor part based on EOS tokens.\n",
    "# Example: generated_full_seq_str.split(model_binder.tokenizer.eos_token)[1]\n",
    "print(f\"Generated binder {binder[0]}\")"
   ]
  },
  {
   "cell_type": "code",
   "execution_count": 5,
   "metadata": {},
   "outputs": [
    {
     "name": "stdout",
     "output_type": "stream",
     "text": [
      "SeqA: <cls>MVNLAKMRQRTEQNLREVSSFVKILFHTVLKFPMKINIGIHVHINMQAAQNAAADQNMQATNVIDLHNFKMGKDIGVDNKASATAHIYDEAHHTFLQLGAIKLLHAIPMIAGPVRCRLPIGFGHRFRG\n",
      "SeqB: HYKNPMHSLLDSNVLHKDVVEVRLPIKIGMELDVMASAMREFLMPGTQQGDLRVIAEKRPVNKLHTYRRDLVKLLLAGAKLGTEAKSVELDLYRTELGGLVVYIININIATWDIIFAKVKICRGNDKP\n"
     ]
    }
   ],
   "source": [
    "seq_a_length = 128\n",
    "seq_b_length = 128\n",
    "\n",
    "seq_a_template = ''.join([mask_token] * seq_a_length)\n",
    "seq_b_template = ''.join([mask_token] * seq_b_length)\n",
    "\n",
    "combined_input_str = seq_a_template + '<eos>' + seq_b_template\n",
    "\n",
    "input_tokens = tokenizer.encode(combined_input_str, add_special_tokens=True, return_tensors='pt').to(device)\n",
    "\n",
    "output = model.mask_diffusion_generate(\n",
    "    tokenizer=tokenizer,\n",
    "    input_tokens=input_tokens,\n",
    "    step_divisor=10,          # lower is slower but better\n",
    "    temperature=1.0,           # sampling temperature\n",
    "    remasking=\"random\",        # strategy for remasking tokens not kept\n",
    "    preview=False,             # set this to True to watch the mask tokens get rilled in real time\n",
    "    slow=False,                # adds a small delay to the real time filling (because it is usually very fast and watching carefully is hard!)\n",
    "    return_trajectory=False    # set this to True to return the trajectory of the generation (what you watch in the preview)\n",
    ") # Note: output will be a tuple if return_trajectory is True\n",
    "\n",
    "seqa, seqb = model.decode_dual_input(output, seperator='<eos>')\n",
    "# Parse out the generated interactor part based on EOS tokens.\n",
    "# Example: generated_full_seq_str.split(model_binder.tokenizer.eos_token)[1]\n",
    "print(f\"SeqA: {seqa[0][4:]}\") # remove cls token\n",
    "print(f\"SeqB: {seqb[0]}\")"
   ]
  }
 ],
 "metadata": {
  "kernelspec": {
   "display_name": "Python 3",
   "language": "python",
   "name": "python3"
  },
  "language_info": {
   "codemirror_mode": {
    "name": "ipython",
    "version": 3
   },
   "file_extension": ".py",
   "mimetype": "text/x-python",
   "name": "python",
   "nbconvert_exporter": "python",
   "pygments_lexer": "ipython3",
   "version": "3.11.9"
  }
 },
 "nbformat": 4,
 "nbformat_minor": 2
}

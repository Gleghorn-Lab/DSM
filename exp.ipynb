{
 "cells": [
  {
   "cell_type": "code",
   "execution_count": 2,
   "metadata": {},
   "outputs": [],
   "source": [
    "from datasets import load_dataset"
   ]
  },
  {
   "cell_type": "code",
   "execution_count": null,
   "metadata": {},
   "outputs": [],
   "source": [
    "data = load_dataset(\"Synthyra/BIOGRID\", split=\"train\")\n",
    "data\n"
   ]
  },
  {
   "cell_type": "code",
   "execution_count": null,
   "metadata": {},
   "outputs": [],
   "source": [
    "seqs = set()\n",
    "\n",
    "data = data.shuffle(seed=42)\n",
    "\n",
    "def process_dataset(ex):\n",
    "    seq_a, seq_b = ex['SeqA'], ex['SeqB']\n",
    "    if seq_a in seqs or seq_b in seqs:\n",
    "        return False\n",
    "    seqs.add(seq_a)\n",
    "    seqs.add(seq_b)\n",
    "    return True\n",
    "\n",
    "data = data.filter(process_dataset)\n",
    "data"
   ]
  },
  {
   "cell_type": "code",
   "execution_count": null,
   "metadata": {},
   "outputs": [],
   "source": [
    "data = load_dataset('Synthyra/all_string_pairs_700', split='train')\n",
    "data"
   ]
  },
  {
   "cell_type": "code",
   "execution_count": null,
   "metadata": {},
   "outputs": [],
   "source": [
    "class UniqueIDFilter:\n",
    "    def __init__(self):\n",
    "        self.ids_seen = set()\n",
    "    \n",
    "    def __call__(self, ex):\n",
    "        if ex['score'] < 900:\n",
    "            return False\n",
    "        id_a, id_b = ex['pairs'].split('|')\n",
    "        if id_a in self.ids_seen or id_b in self.ids_seen:\n",
    "            return False\n",
    "        self.ids_seen.add(id_a)\n",
    "        self.ids_seen.add(id_b)\n",
    "        return True\n",
    "\n",
    "\n",
    "filter_func = UniqueIDFilter()\n",
    "data = data.filter(filter_func, num_proc=16)\n",
    "data"
   ]
  },
  {
   "cell_type": "code",
   "execution_count": null,
   "metadata": {},
   "outputs": [],
   "source": [
    "data = load_dataset('Synthyra/all_string_pairs_900_unique', split='train')\n",
    "ids = set()\n",
    "for pair in data['pairs']:\n",
    "    id_a, id_b = pair.split('|')\n",
    "    ids.add(id_a)\n",
    "    ids.add(id_b)\n",
    "del data\n",
    "len(ids)"
   ]
  },
  {
   "cell_type": "code",
   "execution_count": null,
   "metadata": {},
   "outputs": [],
   "source": [
    "string_seqs = load_dataset('Synthyra/StringDBSeqsv12', split='train')\n",
    "\n",
    "\n",
    "def get_relevant_ids(ex):\n",
    "    id = ex['id']\n",
    "    if id in ids:\n",
    "        return True\n",
    "    return False\n",
    "\n",
    "string_seqs = string_seqs.filter(get_relevant_ids)\n",
    "string_seqs"
   ]
  },
  {
   "cell_type": "code",
   "execution_count": null,
   "metadata": {},
   "outputs": [],
   "source": [
    "string_seqs.push_to_hub('Synthyra/StringDBSeqsv12_unique', private=True)"
   ]
  },
  {
   "cell_type": "code",
   "execution_count": null,
   "metadata": {},
   "outputs": [],
   "source": [
    "seqs = set(load_dataset('Synthyra/StringDBSeqsv12_unique', split='train')['sequence']) # 3% ish in av set\n",
    "len(seqs)"
   ]
  },
  {
   "cell_type": "code",
   "execution_count": null,
   "metadata": {},
   "outputs": [],
   "source": [
    "from tqdm.auto import tqdm\n",
    "\n",
    "\n",
    "av = load_dataset('lhallee/AV_large', split='train', streaming=True)\n",
    "\n",
    "counter, total = 0, 0\n",
    "\n",
    "pbar = tqdm(av)\n",
    "for ex in pbar:\n",
    "    if ex['sequence'] in seqs:\n",
    "        counter += 1\n",
    "    total += 1\n",
    "    pbar.set_description(f'{counter}/{total}')\n",
    "\n",
    "counter\n"
   ]
  }
 ],
 "metadata": {
  "kernelspec": {
   "display_name": "Python 3",
   "language": "python",
   "name": "python3"
  },
  "language_info": {
   "codemirror_mode": {
    "name": "ipython",
    "version": 3
   },
   "file_extension": ".py",
   "mimetype": "text/x-python",
   "name": "python",
   "nbconvert_exporter": "python",
   "pygments_lexer": "ipython3",
   "version": "3.11.8"
  }
 },
 "nbformat": 4,
 "nbformat_minor": 2
}
